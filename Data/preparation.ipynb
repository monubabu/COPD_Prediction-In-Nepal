{
 "cells": [
  {
   "cell_type": "markdown",
   "metadata": {},
   "source": [
    "# Data collection\n",
    "\n",
    "## Identify the data sources\n",
    "- Health Data Portals - WHO, World Bank, Nepals Ministry Of Health\n",
    "- Research Papers - Googles Scholar\n",
    "- Public Datasets - Kaggle, Data.gov, Open Data Nepal\n",
    "- Hospitals and Clinics"
   ]
  },
  {
   "cell_type": "markdown",
   "metadata": {},
   "source": [
    "# References: \n",
    "- https://www.who.int/home/search-results?indexCatalogue=genericsearchindex1&searchQuery=chronic%20obstructive%20pulmonary%20diseases&wordsMode=AnyWord\n"
   ]
  },
  {
   "cell_type": "code",
   "execution_count": null,
   "metadata": {},
   "outputs": [],
   "source": []
  }
 ],
 "metadata": {
  "kernelspec": {
   "display_name": "Python 3",
   "language": "python",
   "name": "python3"
  },
  "language_info": {
   "name": "python",
   "version": "3.12.5"
  }
 },
 "nbformat": 4,
 "nbformat_minor": 2
}
